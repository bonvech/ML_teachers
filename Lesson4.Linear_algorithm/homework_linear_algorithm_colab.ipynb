{
  "nbformat": 4,
  "nbformat_minor": 0,
  "metadata": {
    "kernelspec": {
      "display_name": "Python 3",
      "language": "python",
      "name": "python3"
    },
    "language_info": {
      "codemirror_mode": {
        "name": "ipython",
        "version": 3
      },
      "file_extension": ".py",
      "mimetype": "text/x-python",
      "name": "python",
      "nbconvert_exporter": "python",
      "pygments_lexer": "ipython3",
      "version": "3.7.3"
    },
    "colab": {
      "name": "homework_linear_algorithm.ipynb",
      "provenance": []
    }
  },
  "cells": [
    {
      "cell_type": "code",
      "metadata": {
        "id": "EXnSOViHE_Kl",
        "colab_type": "code",
        "colab": {}
      },
      "source": [
        "import numpy as np\n",
        "import pandas as pd\n",
        "pd.set_option('display.max_rows', 100, 'display.max_columns', 200)\n",
        "#строчка нужна, чтобы датасеты с множеством колонок отображались полностью\n",
        "import seaborn as sns\n",
        "import matplotlib.pyplot as plt\n",
        "%matplotlib inline"
      ],
      "execution_count": 0,
      "outputs": []
    },
    {
      "cell_type": "markdown",
      "metadata": {
        "id": "HfPP-GDkE_Kt",
        "colab_type": "text"
      },
      "source": [
        "# Линейная регрессия: эксперимент на искусственных данных (4 балла)"
      ]
    },
    {
      "cell_type": "markdown",
      "metadata": {
        "id": "JoVOdrxoE_Ku",
        "colab_type": "text"
      },
      "source": [
        "Сгенерируем искусственные данные. Каждый объект имеет один признак, который записан в переменную $X$. Целевая переменная $y$ зависит от $X$ по закону $y = 7X - 10$. Поскольку восстанавливать в точности линейную зависимость не интересно, к целевой переменной добавлен шум, имеющий нормальное распределение. Ниже визуализировано распределение шума."
      ]
    },
    {
      "cell_type": "code",
      "metadata": {
        "id": "C6KDMqMOE_Kv",
        "colab_type": "code",
        "colab": {}
      },
      "source": [
        "noise = np.random.randn(20) * 10\n",
        "plt.hist(noise)"
      ],
      "execution_count": 0,
      "outputs": []
    },
    {
      "cell_type": "code",
      "metadata": {
        "id": "FAt8vr3-E_Kz",
        "colab_type": "code",
        "colab": {}
      },
      "source": [
        "X = np.linspace(-5, 5, 20)\n",
        "y = 10 * X - 7 + noise\n",
        "\n",
        "X = X.reshape(-1,1) \n",
        "# Изменение формы необходимо, поскольку на вход линейной регрессии \n",
        "# должна подаваться двумерная матрица, а не вектор\n",
        "X.shape"
      ],
      "execution_count": 0,
      "outputs": []
    },
    {
      "cell_type": "markdown",
      "metadata": {
        "id": "BBdWZ-gzE_K4",
        "colab_type": "text"
      },
      "source": [
        "### Задание 1 (0 баллов)\n",
        "Разбейте данные на train и test в соотношении 1:1. Используйте функцию ``sklearn.model_selection.train_test_split``."
      ]
    },
    {
      "cell_type": "code",
      "metadata": {
        "id": "Wbg6O2s-E_K5",
        "colab_type": "code",
        "colab": {}
      },
      "source": [
        "from sklearn.model_selection import train_test_split"
      ],
      "execution_count": 0,
      "outputs": []
    },
    {
      "cell_type": "code",
      "metadata": {
        "id": "a3AuuyTRE_K_",
        "colab_type": "code",
        "colab": {}
      },
      "source": [
        "X_train, X_test, y_train, y_test = <YOUR CODE>"
      ],
      "execution_count": 0,
      "outputs": []
    },
    {
      "cell_type": "markdown",
      "metadata": {
        "id": "IF9UvIkhE_LD",
        "colab_type": "text"
      },
      "source": [
        "Визуализируем данные, используя библиотеку matplotlib."
      ]
    },
    {
      "cell_type": "code",
      "metadata": {
        "id": "bjmy3Qm5E_LE",
        "colab_type": "code",
        "colab": {}
      },
      "source": [
        "plt.figure(figsize=(10, 5))\n",
        "plt.plot(X, 10 * X - 7, label='real')\n",
        "plt.scatter(X_train, y_train, label='train')\n",
        "plt.scatter(X_test, y_test, label='test')\n",
        "plt.legend()\n",
        "plt.show()"
      ],
      "execution_count": 0,
      "outputs": []
    },
    {
      "cell_type": "markdown",
      "metadata": {
        "id": "k4j3kD8bE_LJ",
        "colab_type": "text"
      },
      "source": [
        "### Задание 2 (2 балла)\n",
        "Обучите модель линейной регрессии на тренировочной выборке и предскажите значения на тестовой.\n",
        "Предсказанные ответы сохраните в переменную ``predictions``, а веса модели (угол наклона прямой и свободный член) --- в переменные ``w``, ``b``. О том, где внутри модели сохраняются веса, можно прочесть в <a href=https://scikit-learn.org/stable/modules/generated/sklearn.linear_model.LinearRegression.html>документации</a>."
      ]
    },
    {
      "cell_type": "code",
      "metadata": {
        "id": "kfyaOFVrE_LK",
        "colab_type": "code",
        "colab": {}
      },
      "source": [
        "from sklearn.linear_model import LinearRegression"
      ],
      "execution_count": 0,
      "outputs": []
    },
    {
      "cell_type": "code",
      "metadata": {
        "id": "72wLTa5sE_LO",
        "colab_type": "code",
        "colab": {}
      },
      "source": [
        "model = LinearRegression()\n",
        "model.fit(<YOUR CODE>)\n",
        "\n",
        "predictions = <YOUR CODE>\n",
        "\n",
        "w = <YOUR CODE>\n",
        "b = <YOUR CODE>"
      ],
      "execution_count": 0,
      "outputs": []
    },
    {
      "cell_type": "code",
      "metadata": {
        "id": "m26NuPJPE_LS",
        "colab_type": "code",
        "colab": {}
      },
      "source": [
        "w, b"
      ],
      "execution_count": 0,
      "outputs": []
    },
    {
      "cell_type": "markdown",
      "metadata": {
        "id": "0OD69xeWE_LY",
        "colab_type": "text"
      },
      "source": [
        "Визуализируем предсказания."
      ]
    },
    {
      "cell_type": "code",
      "metadata": {
        "id": "QDKy3HB2E_LZ",
        "colab_type": "code",
        "colab": {}
      },
      "source": [
        "plt.figure(figsize=(10, 5))\n",
        "plt.plot(X, 10 * X - 7, label='real')\n",
        "plt.scatter(X_train, y_train, label='train')\n",
        "plt.scatter(X_test, y_test, label='test')\n",
        "plt.plot(X, X * w + b, label='predicted')\n",
        "plt.legend()\n",
        "plt.show()"
      ],
      "execution_count": 0,
      "outputs": []
    },
    {
      "cell_type": "markdown",
      "metadata": {
        "id": "Yr2rAvxIE_Le",
        "colab_type": "text"
      },
      "source": [
        "### Задание 3 (1 балл)\n",
        "Вычислите среднеквадратичную и среднюю абсолютную ошибку на обучающем и тестовом множествах."
      ]
    },
    {
      "cell_type": "code",
      "metadata": {
        "scrolled": true,
        "id": "5oJkQoabE_Lg",
        "colab_type": "code",
        "colab": {}
      },
      "source": [
        "from sklearn.metrics import mean_squared_error, mean_absolute_error\n",
        "\n",
        "y_train_predicted = <YOUR CODE>\n",
        "y_test_predicted = <YOUR CODE>\n",
        "\n",
        "print('Train MSE: ', <YOUR CODE>)\n",
        "print('Test MSE: ', <YOUR CODE>)"
      ],
      "execution_count": 0,
      "outputs": []
    },
    {
      "cell_type": "code",
      "metadata": {
        "id": "XKGm04QNE_Lk",
        "colab_type": "code",
        "colab": {}
      },
      "source": [
        "print('Train MAE: ', <YOUR CODE>)\n",
        "print('Test MAE: ', <YOUR CODE>)"
      ],
      "execution_count": 0,
      "outputs": []
    },
    {
      "cell_type": "markdown",
      "metadata": {
        "id": "FACuhOx-E_Ln",
        "colab_type": "text"
      },
      "source": [
        "### Задание 4 (1 балл)\n",
        "Сделайте выводы. Верно ли, что ошибка на train меньше, чем на test? В связи с чем это происходит?"
      ]
    },
    {
      "cell_type": "markdown",
      "metadata": {
        "id": "d9YPG3YVE_Lo",
        "colab_type": "text"
      },
      "source": [
        ""
      ]
    },
    {
      "cell_type": "markdown",
      "metadata": {
        "id": "JQbQC5GeE_Lo",
        "colab_type": "text"
      },
      "source": [
        "# Предсказание отклика на маркетинговую кампанию банка с помощью логистической регрессии (6 баллов)\n",
        "\n",
        "В этом разделе вы решите задачу предсказания отклика на маркетинговую кампанию с помощью логистической регрессии. "
      ]
    },
    {
      "cell_type": "markdown",
      "metadata": {
        "id": "t0bDeDvfE_Lp",
        "colab_type": "text"
      },
      "source": [
        "## Постановка задачи\n",
        "Для нового продукта банка необходимо определить круг клиентов, которым будет совершён телефонный звонок с предложением продукта. Известно, что один звонок независимо от результата стоит 10 рублей, а каждый успешный звонок приносит банку 100 рублей. Цель -- максимизировать прибыль банка. \n",
        "\n",
        "Мы имеем задачу классификации клиентов на два класса. Для каждого клиента будем предсказывать вероятность отклика на кампанию, а затем выберем пороговую вероятность обзвона. Предсказывать вероятность предлагается с помощью логистической регрессии.\n",
        "\n",
        "## Сбор данных\n",
        "В вашем распоряжении есть выборка из предыдущих звонков, для каждого из которых имеется вектор признаков (характеристики клиента и продукта), а также результат звонка. Загрузим данные с помощью библиотеки Pandas. Создадим объект ``data`` класса ``pandas.DataFrame``.\n",
        "\n",
        "Описание данных: http://archive.ics.uci.edu/ml/datasets/Bank+Marketing"
      ]
    },
    {
      "cell_type": "code",
      "metadata": {
        "id": "O5unSGE1E_Lq",
        "colab_type": "code",
        "colab": {}
      },
      "source": [
        "data = pd.read_csv('bank-additional-full.csv', sep=';')\n",
        "# Если строчка не выполняется, ноутбук нужно сохранить на \n",
        "# компьютере и данные положить в ту же папку"
      ],
      "execution_count": 0,
      "outputs": []
    },
    {
      "cell_type": "markdown",
      "metadata": {
        "id": "dMuFo8kzE_Lw",
        "colab_type": "text"
      },
      "source": [
        "Взглянем на выборку, соберём предварительную информацию о ней, изучим признаки с помощью функций ``head``, ``info``, ``describe`` библиотеки Pandas."
      ]
    },
    {
      "cell_type": "code",
      "metadata": {
        "id": "saEnDrzaE_Lx",
        "colab_type": "code",
        "colab": {}
      },
      "source": [
        "data.head()"
      ],
      "execution_count": 0,
      "outputs": []
    },
    {
      "cell_type": "code",
      "metadata": {
        "id": "cRt8u0l3E_L1",
        "colab_type": "code",
        "colab": {}
      },
      "source": [
        "data.info()"
      ],
      "execution_count": 0,
      "outputs": []
    },
    {
      "cell_type": "code",
      "metadata": {
        "id": "Tb4coRI8E_L5",
        "colab_type": "code",
        "colab": {}
      },
      "source": [
        "data.describe()"
      ],
      "execution_count": 0,
      "outputs": []
    },
    {
      "cell_type": "markdown",
      "metadata": {
        "id": "4dhwY0JpE_L9",
        "colab_type": "text"
      },
      "source": [
        "### Задание 5 (1 балл)\n",
        "Сейчас целевая переменная записана в ``data['y']`` и имеет текстовый вид (\"yes\" или \"no\"). Переведите её в числовой вид. Вам поможет класс ``LabelBinarizer`` модуля ``sklearn.preproccesing``. Модуль содержит классы для предобработки признаков.\n",
        "\n",
        "Выделите целевое значение в переменную ``y``."
      ]
    },
    {
      "cell_type": "code",
      "metadata": {
        "id": "vjlUqfbME_L-",
        "colab_type": "code",
        "colab": {}
      },
      "source": [
        "from sklearn.preprocessing import LabelBinarizer\n",
        "binarizer = LabelBinarizer()\n",
        "\n",
        "y = <YOUR CODE>\n",
        "\n",
        "data['y'] = y\n",
        "\n",
        "data.describe()"
      ],
      "execution_count": 0,
      "outputs": []
    },
    {
      "cell_type": "code",
      "metadata": {
        "id": "6HQs5tahE_MC",
        "colab_type": "code",
        "colab": {}
      },
      "source": [
        "data['y'].value_counts()"
      ],
      "execution_count": 0,
      "outputs": []
    },
    {
      "cell_type": "markdown",
      "metadata": {
        "id": "NhqBeE72E_MF",
        "colab_type": "text"
      },
      "source": [
        "Видим, что классы очень несбалансированы. "
      ]
    },
    {
      "cell_type": "markdown",
      "metadata": {
        "id": "oMjGYcnJE_MG",
        "colab_type": "text"
      },
      "source": [
        "## Предварительный анализ признаков\n",
        "В датасете есть признак ``duration``, обозначающий длительность совершённого звонка. Это значение неизвестно до совершения звонка, поэтому не может быть использовано для предсказания. Удалим эту переменную из рассмотрения. Сделаем это с помощью метода ``drop`` класса ``pandas.DataFrame``."
      ]
    },
    {
      "cell_type": "code",
      "metadata": {
        "id": "fKkd8AOFE_MH",
        "colab_type": "code",
        "colab": {}
      },
      "source": [
        "data = data.drop(columns=['duration'])"
      ],
      "execution_count": 0,
      "outputs": []
    },
    {
      "cell_type": "markdown",
      "metadata": {
        "id": "Bluuh3oYE_MJ",
        "colab_type": "text"
      },
      "source": [
        "В датасете многие признаки являются категориальными. Мы ограничимся их one-hot кодированием. \n",
        "\n",
        "## One-hot кодирование\n",
        "One-hot кодирование категориального признака ``feature``, принимающего $k$ значений ``1``, ``2``, ``3``, $\\ldots$, ``t``, заключается в создании $t$ новых бинарных признаков ``\"feature == 1\"``, ``\"feature == 2\"``, $\\ldots$, ``\"feature == t\"``, определяющихся по формуле\n",
        "\n",
        "$$\\text{\"feature == i\"} = \n",
        "\\begin{cases}\n",
        "1,& feature = i\\\\\n",
        "0,& feature \\neq i\n",
        "\\end{cases}.$$\n",
        "\n",
        "\n",
        "### Задание 6 (1 балл)\n",
        "Закодируйте категориальные признаки. One-hot encoding с помощью Pandas можно выполнить с помощью функции ``get_dummies``. \n"
      ]
    },
    {
      "cell_type": "code",
      "metadata": {
        "id": "oI2ubAzsE_MK",
        "colab_type": "code",
        "colab": {}
      },
      "source": [
        "# Разделим признаки на числовые и категориальные с помощью функции ``select_dtypes``\n",
        "\n",
        "data_categorical = data.select_dtypes(include=['object'])\n",
        "data_numeric = data.select_dtypes(exclude=['object'])\n",
        "\n",
        "data_one_hot = <YOUR CODE>"
      ],
      "execution_count": 0,
      "outputs": []
    },
    {
      "cell_type": "markdown",
      "metadata": {
        "id": "3UQ6cKWfE_MO",
        "colab_type": "text"
      },
      "source": [
        "### Визуализация данных\n",
        "Визуализация данных полезна для предварительного анализа. Подробно о визуализации мы поговорим на следующих занятиях, а сейчас ограничимся построением матрицы корреляций по числовым признакам. Нам пригодится функция ``heatmap`` библиотеки Seaborn, а также функция ``corr`` класса ``pandas.DataFrame``."
      ]
    },
    {
      "cell_type": "code",
      "metadata": {
        "id": "8fOy6FbKE_MP",
        "colab_type": "code",
        "colab": {}
      },
      "source": [
        "plt.figure(figsize=(12,10))\n",
        "sns.heatmap(data_numeric.corr())"
      ],
      "execution_count": 0,
      "outputs": []
    },
    {
      "cell_type": "markdown",
      "metadata": {
        "id": "rEWB-AlZE_MT",
        "colab_type": "text"
      },
      "source": [
        "## Составление плана обучения и тестирования, train и test\n",
        "\n",
        "Прежде чем производить обработку признаков, необходимо составить план обучения и тестирования. Чтобы смоделировать \"реальную\" производственную ситуацию и избежать переобучения, необходимо разделить данные на train и test. Выборка test **будет недоступна** на стадии обработки признаков и обучения. Строго говоря, выделение категориальных признаков также необхоимо было проводить после разбиения, но для простоты мы опустим этот момент. Также не забудем выбросить целевую переменную из ``data_numeric``.\n",
        "\n",
        "Разобьём данные на train и test в соотношении 70:30 с помощью функции ``train_test_split`` модуля ``sklearn.model_selection``."
      ]
    },
    {
      "cell_type": "code",
      "metadata": {
        "id": "57OqwWcOE_MU",
        "colab_type": "code",
        "colab": {}
      },
      "source": [
        "data_numeric = data_numeric.drop(columns=['y'])\n",
        "\n",
        "from sklearn.model_selection import train_test_split\n",
        "\n",
        "data_train, data_test, data_categorical_train, data_categorical_test,\\\n",
        "data_one_hot_train, data_one_hot_test,\\\n",
        "data_numeric_train, data_numeric_test, y_train, y_test\\\n",
        "= train_test_split(data, data_categorical, data_one_hot, data_numeric, y)"
      ],
      "execution_count": 0,
      "outputs": []
    },
    {
      "cell_type": "markdown",
      "metadata": {
        "id": "0cJKwUR8E_MX",
        "colab_type": "text"
      },
      "source": [
        "### Обработка числовых признаков, нормировка\n",
        "Есть множество методов обработки, генерации новых признаков, отбора признаков и т.д. Многие из них реализованы в модулях ``sklearn.preprocessing`` и ``sklearn.feature_selection``. Сейчас мы ограничимся нормировкой признаков. \n",
        "\n",
        "Нормировка признаков производится по формуле \n",
        "$$x \\rightarrow \\frac{x - a}{\\sigma},$$\n",
        "где $a$ -- среднее значение признака, а $\\sigma$ -- среднее квадратическое отклонение признака, вычисляемое по формуле $$\\sigma = \\sqrt{\\frac{(x_1 - a)^2 + \\ldots + (x_n - a)^2}{n}}.$$\n",
        "\n",
        "\n",
        "\n",
        "### Задание 7 (1 балл)\n",
        "Произведите нормировку обучающих данных. Вам поможет класс ``StandartScaler`` модуля ``sklearn.preprocessing``. Нужно быть осторожным: StandartScaler выводит нас за рамки pandas. Результат применения -- ``numpy.ndarray``.\n",
        "\n",
        "Необходимо нормировать только числовые данные: data_numeric_train."
      ]
    },
    {
      "cell_type": "code",
      "metadata": {
        "id": "u0XYD5w9E_MY",
        "colab_type": "code",
        "colab": {}
      },
      "source": [
        "from sklearn.preprocessing import StandardScaler\n",
        "\n",
        "scaler = StandardScaler()\n",
        "\n",
        "data_normalized_train = <YOUR CODE>"
      ],
      "execution_count": 0,
      "outputs": []
    },
    {
      "cell_type": "markdown",
      "metadata": {
        "id": "QzcFwsznE_Mb",
        "colab_type": "text"
      },
      "source": [
        "## Формирование матрицы объекты-признаки\n",
        "После выполнения всех предыдущих действий мы наконец готовы сформировать матрицу объекты-признаки из всех данных, которые нам доступны. Сольём категориальные и числовые признаки, сформировав тренировочную матрицу объекты-признаки."
      ]
    },
    {
      "cell_type": "code",
      "metadata": {
        "id": "DQrWN8AYE_Md",
        "colab_type": "code",
        "colab": {}
      },
      "source": [
        "X_train = np.concatenate([data_normalized_train, data_one_hot_train], axis=1)"
      ],
      "execution_count": 0,
      "outputs": []
    },
    {
      "cell_type": "code",
      "metadata": {
        "id": "h3oVt9WfE_Mg",
        "colab_type": "code",
        "colab": {}
      },
      "source": [
        "X_train.shape"
      ],
      "execution_count": 0,
      "outputs": []
    },
    {
      "cell_type": "markdown",
      "metadata": {
        "id": "sdpPlvl1E_Mk",
        "colab_type": "text"
      },
      "source": [
        "## Обучение алгоритма\n",
        "\n",
        "### Задание 8 (1 балл)\n",
        "Создайте и обучите логистическую регрессию. Нужный вам класс ``LogisticRegression`` находится в модуле ``sklearn.linear_model``.\n",
        "Предскажите вероятности принадлежности объектов обучающей выборки к классу 1. Используйте метод модели ``predict_proba``."
      ]
    },
    {
      "cell_type": "code",
      "metadata": {
        "id": "I9GazgDkE_Mk",
        "colab_type": "code",
        "colab": {}
      },
      "source": [
        "from sklearn.linear_model import LogisticRegression\n",
        "model = LogisticRegression(max_iter=1000)"
      ],
      "execution_count": 0,
      "outputs": []
    },
    {
      "cell_type": "code",
      "metadata": {
        "id": "1sb6-u_NE_Mp",
        "colab_type": "code",
        "colab": {}
      },
      "source": [
        "<YOUR CODE>\n",
        "\n",
        "y_train_predicted_probs = <YOUR CODE>"
      ],
      "execution_count": 0,
      "outputs": []
    },
    {
      "cell_type": "markdown",
      "metadata": {
        "id": "NARNEx3lE_Mr",
        "colab_type": "text"
      },
      "source": [
        "## Тестирование модели\n",
        "\n",
        "После обучения модели необходимо протестировать её и посчитать необходимые метрики. Для этого вспомним про тестовую выборку. \n",
        "### Задание 9 (1 балл)\n",
        "Примените к тестовой выборке те же преобразования, что и к обучающей. В нашем случае это нормировка, конкатенация и предсказание вероятностей. Обратите внимание, что параметры нормировки сохранены в объекте ``scaler``."
      ]
    },
    {
      "cell_type": "code",
      "metadata": {
        "id": "6wUcZWivE_Ms",
        "colab_type": "code",
        "colab": {}
      },
      "source": [
        "data_normalized_test = <YOUR CODE>\n",
        "X_test = <YOUR CODE>\n",
        "\n",
        "y_test_predicted_probs = <YOUR CODE>"
      ],
      "execution_count": 0,
      "outputs": []
    },
    {
      "cell_type": "markdown",
      "metadata": {
        "id": "OzJOV7cCE_My",
        "colab_type": "text"
      },
      "source": [
        "Теперь, когда мы нашли вероятности отклика, можем выбрать порог вероятности обзвона (скажем, 0.5). Построим для обучающей и тестовой выборок ROC-кривые и посчитаем значения метрик. Нам поможет модуль ``sklearn.metrics`` и его функции ``accuracy_score``, ``precision_score``, ``recall_score``, ``roc_auc_score``, ``roc_curve``. \n",
        "Напишем функцию для вычисления метрик и построения графиков."
      ]
    },
    {
      "cell_type": "code",
      "metadata": {
        "id": "VWaJUSRIE_Mz",
        "colab_type": "code",
        "colab": {}
      },
      "source": [
        "from sklearn.metrics import accuracy_score, precision_score, recall_score, roc_auc_score, roc_curve\n",
        "\n",
        "def print_metrics(y_true, y_predicted_probs, threshold_probability = 0.5, names = ['train', 'test']):\n",
        "    plt.figure(figsize=(10,6))\n",
        "    for y_true_, y_predicted_probs_, name in zip(y_true, y_predicted_probs, names):\n",
        "        plt.plot(*(roc_curve(y_true_, y_predicted_probs_)[0:2]), label=name + ' ROC-curve')\n",
        "        print(name + ' accuracy: ', accuracy_score(y_true_, y_predicted_probs_ > threshold_probability))\n",
        "        print(name + ' precision: ', precision_score(y_true_, y_predicted_probs_ > threshold_probability))\n",
        "        print(name + ' recall: ', recall_score(y_true_, y_predicted_probs_ > threshold_probability))\n",
        "        print(name + ' ROC-AUC: ', roc_auc_score(y_true_, y_predicted_probs_))\n",
        "    plt.plot([0, 1], [0, 1], '--', color='black',)\n",
        "    plt.grid(True)\n",
        "    plt.legend()\n",
        "    plt.show()"
      ],
      "execution_count": 0,
      "outputs": []
    },
    {
      "cell_type": "code",
      "metadata": {
        "id": "YerGyAeuE_M5",
        "colab_type": "code",
        "colab": {}
      },
      "source": [
        "print_metrics([y_train, y_test], [y_train_predicted_probs, y_test_predicted_probs],\n",
        "              0.5, names = ['train', 'test'])"
      ],
      "execution_count": 0,
      "outputs": []
    },
    {
      "cell_type": "markdown",
      "metadata": {
        "id": "-OwkvunRE_M8",
        "colab_type": "text"
      },
      "source": [
        "## Бонусное задание: интерпретация результатов (1 балл)\n",
        "Интерпретируйте полученные результаты. Найдите оптимальный порог вероятности обзвона для максимизации прибыли, если каждый звонок стоит 10 рублей, а каждый успешный звонок приносит 100 рублей. Вам понадобится функция ``numpy.argmax`` и уже известная функция ``roc_curve``. Определите удельную прибыль на человека на тестовом множестве. Пожалуйста, оформите результат в легко читаемом виде и сделайте вывод.\n",
        "\n",
        "Информацию про ROC-кривую вы можете найти на <a href=https://ru.wikipedia.org/wiki/ROC-%D0%BA%D1%80%D0%B8%D0%B2%D0%B0%D1%8F> странице в википедии</a>. Пример работы с sklearn.metrics.roc_curve можно найти в <a href=https://scikit-learn.org/stable/modules/generated/sklearn.metrics.roc_curve.html>документации к методу</a>."
      ]
    },
    {
      "cell_type": "code",
      "metadata": {
        "id": "UC6gk4KRE_M8",
        "colab_type": "code",
        "colab": {}
      },
      "source": [
        "<YOUR CODE>"
      ],
      "execution_count": 0,
      "outputs": []
    },
    {
      "cell_type": "markdown",
      "metadata": {
        "id": "LEAUhciJE_NA",
        "colab_type": "text"
      },
      "source": [
        "Ваши выводы"
      ]
    }
  ]
}